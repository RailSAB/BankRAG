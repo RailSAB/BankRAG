{
 "cells": [
  {
   "cell_type": "code",
   "execution_count": 1,
   "id": "a61ffeb3",
   "metadata": {},
   "outputs": [],
   "source": [
    "import pandas as pd\n",
    "import numpy as np\n",
    "import json"
   ]
  },
  {
   "cell_type": "code",
   "execution_count": 3,
   "id": "85739a1a",
   "metadata": {},
   "outputs": [],
   "source": [
    "json_file_path = 'train_our.jsonl' \n",
    "csv_file_path = 'qa_dataset.csv'"
   ]
  },
  {
   "cell_type": "code",
   "execution_count": 6,
   "id": "1cbf6616",
   "metadata": {},
   "outputs": [],
   "source": [
    "def convert_json_to_csv(json_file_path, csv_file_path):\n",
    "    questions = []\n",
    "    answers = []\n",
    "    \n",
    "    with open(json_file_path, 'r', encoding='utf-8') as file:\n",
    "        for line in file:\n",
    "            if line.strip():\n",
    "                data = json.loads(line)\n",
    "                messages = data['messages']\n",
    "                \n",
    "                question = \"\"\n",
    "                answer = \"\"\n",
    "                \n",
    "                for message in messages:\n",
    "                    if message['role'] == 'user':\n",
    "                        question = message['content']\n",
    "                    elif message['role'] == 'assistant':\n",
    "                        answer = message['content']\n",
    "                \n",
    "                if question and answer:\n",
    "                    questions.append(question)\n",
    "                    answers.append(answer)\n",
    "    \n",
    "    df = pd.DataFrame({\n",
    "        'question': questions,\n",
    "        'answer': answers\n",
    "    })\n",
    "    \n",
    "    df.to_csv(csv_file_path, index=False, encoding='utf-8')\n",
    "    print(f\"CSV file created with {len(df)} rows\")\n",
    "    return df"
   ]
  },
  {
   "cell_type": "code",
   "execution_count": 7,
   "id": "c9861b2f",
   "metadata": {},
   "outputs": [
    {
     "name": "stdout",
     "output_type": "stream",
     "text": [
      "CSV file created with 3047 rows\n"
     ]
    }
   ],
   "source": [
    "df = convert_json_to_csv(json_file_path, csv_file_path)"
   ]
  },
  {
   "cell_type": "code",
   "execution_count": 9,
   "id": "ba35e339",
   "metadata": {},
   "outputs": [
    {
     "data": {
      "text/plain": [
       "(3047, 2)"
      ]
     },
     "execution_count": 9,
     "metadata": {},
     "output_type": "execute_result"
    }
   ],
   "source": [
    "df.shape"
   ]
  },
  {
   "cell_type": "code",
   "execution_count": 8,
   "id": "435d7a52",
   "metadata": {},
   "outputs": [
    {
     "data": {
      "text/html": [
       "<div>\n",
       "<style scoped>\n",
       "    .dataframe tbody tr th:only-of-type {\n",
       "        vertical-align: middle;\n",
       "    }\n",
       "\n",
       "    .dataframe tbody tr th {\n",
       "        vertical-align: top;\n",
       "    }\n",
       "\n",
       "    .dataframe thead th {\n",
       "        text-align: right;\n",
       "    }\n",
       "</style>\n",
       "<table border=\"1\" class=\"dataframe\">\n",
       "  <thead>\n",
       "    <tr style=\"text-align: right;\">\n",
       "      <th></th>\n",
       "      <th>question</th>\n",
       "      <th>answer</th>\n",
       "    </tr>\n",
       "  </thead>\n",
       "  <tbody>\n",
       "    <tr>\n",
       "      <th>0</th>\n",
       "      <td>Как посмотреть лимиты счета?</td>\n",
       "      <td>Вы можете посмотреть лимиты по счету на месяц,...</td>\n",
       "    </tr>\n",
       "    <tr>\n",
       "      <th>1</th>\n",
       "      <td>Как посмотреть выплаты за определенный период?</td>\n",
       "      <td>Это можно сделать в личном кабинете Jump.Finan...</td>\n",
       "    </tr>\n",
       "    <tr>\n",
       "      <th>2</th>\n",
       "      <td>Как посмотреть список выплат с ошибкой?</td>\n",
       "      <td>Это можно сделать в личном кабинете Jump.Finan...</td>\n",
       "    </tr>\n",
       "    <tr>\n",
       "      <th>3</th>\n",
       "      <td>Как посмотреть список выплат, которые ждут под...</td>\n",
       "      <td>Это можно сделать в личном кабинете Jump.Finan...</td>\n",
       "    </tr>\n",
       "    <tr>\n",
       "      <th>4</th>\n",
       "      <td>Как посмотреть лимиты по филиалам?</td>\n",
       "      <td>В разделе «Сводка» вы можете отслеживать лимит...</td>\n",
       "    </tr>\n",
       "  </tbody>\n",
       "</table>\n",
       "</div>"
      ],
      "text/plain": [
       "                                            question  \\\n",
       "0                       Как посмотреть лимиты счета?   \n",
       "1     Как посмотреть выплаты за определенный период?   \n",
       "2            Как посмотреть список выплат с ошибкой?   \n",
       "3  Как посмотреть список выплат, которые ждут под...   \n",
       "4                 Как посмотреть лимиты по филиалам?   \n",
       "\n",
       "                                              answer  \n",
       "0  Вы можете посмотреть лимиты по счету на месяц,...  \n",
       "1  Это можно сделать в личном кабинете Jump.Finan...  \n",
       "2  Это можно сделать в личном кабинете Jump.Finan...  \n",
       "3  Это можно сделать в личном кабинете Jump.Finan...  \n",
       "4  В разделе «Сводка» вы можете отслеживать лимит...  "
      ]
     },
     "execution_count": 8,
     "metadata": {},
     "output_type": "execute_result"
    }
   ],
   "source": [
    "df.head()"
   ]
  },
  {
   "cell_type": "code",
   "execution_count": 2,
   "id": "a540590b",
   "metadata": {},
   "outputs": [],
   "source": [
    "def csv_to_qa_text(csv_file_path, output_file_path):\n",
    "    df = pd.read_csv(csv_file_path)\n",
    "    \n",
    "    with open(output_file_path, 'w', encoding='utf-8') as file:\n",
    "        for index, row in df.iterrows():\n",
    "            question = row['question'].strip()\n",
    "            answer = row['answer'].strip()\n",
    "            qa_pair = f\"Question: {question}\\nAnswer: {answer}\\n\\n\"\n",
    "            file.write(qa_pair)\n",
    "    \n",
    "    print(f\"QA text file created at {output_file_path}\")"
   ]
  },
  {
   "cell_type": "code",
   "execution_count": 4,
   "id": "c6cb7a69",
   "metadata": {},
   "outputs": [
    {
     "name": "stdout",
     "output_type": "stream",
     "text": [
      "QA text file created at qa_dataset.txt\n"
     ]
    }
   ],
   "source": [
    "csv_to_qa_text(csv_file_path, 'qa_dataset.txt')"
   ]
  },
  {
   "cell_type": "code",
   "execution_count": null,
   "id": "5cd04047",
   "metadata": {},
   "outputs": [],
   "source": []
  }
 ],
 "metadata": {
  "kernelspec": {
   "display_name": ".venv (3.13.7)",
   "language": "python",
   "name": "python3"
  },
  "language_info": {
   "codemirror_mode": {
    "name": "ipython",
    "version": 3
   },
   "file_extension": ".py",
   "mimetype": "text/x-python",
   "name": "python",
   "nbconvert_exporter": "python",
   "pygments_lexer": "ipython3",
   "version": "3.13.7"
  }
 },
 "nbformat": 4,
 "nbformat_minor": 5
}
